{
 "cells": [
  {
   "cell_type": "code",
   "execution_count": null,
   "id": "c8040bbb",
   "metadata": {},
   "outputs": [],
   "source": [
    "# Scientific computing package\n",
    "# NumPy is a library for the Python programming language, adding support for large, multi-dimensional arrays and matrices, along with a collection of mathematical functions to operate on these arrays.\n",
    "# convert float arrays to int array\n",
    "# consume less memory than python list\n",
    "# faster than python lists\n",
    "# list=[1,2,3,4]\n",
    "# array=[1 2 3 4] ,no commas\n",
    "# numpy array store only 1 datatye unlike python list which can store multiple datatypes\n",
    "# % timeit=>function to check time taken by a function one line\n",
    "# % % timeit=>function to check time taken by a function multiple lines\n"
   ]
  },
  {
   "cell_type": "code",
   "execution_count": null,
   "id": "5a9b5d0c",
   "metadata": {},
   "outputs": [
    {
     "name": "stdout",
     "output_type": "stream",
     "text": [
      "[1 2 3 4 5]\n",
      "<class 'numpy.ndarray'>\n"
     ]
    }
   ],
   "source": [
    "import numpy as np\n",
    "x=np.array([1,2,3,4,5])\n",
    "print(x)\n",
    "print(type(x))"
   ]
  },
  {
   "cell_type": "code",
   "execution_count": 2,
   "id": "04c008c5",
   "metadata": {},
   "outputs": [
    {
     "name": "stdout",
     "output_type": "stream",
     "text": [
      "[1, 2, 3, 4, 5]\n",
      "<class 'list'>\n"
     ]
    }
   ],
   "source": [
    "lista=[1,2,3,4,5]\n",
    "print(lista)\n",
    "print(type(lista))"
   ]
  },
  {
   "cell_type": "code",
   "execution_count": 3,
   "id": "267f0d1a",
   "metadata": {},
   "outputs": [
    {
     "name": "stdout",
     "output_type": "stream",
     "text": [
      "[1 2 3 4]\n"
     ]
    }
   ],
   "source": [
    "import numpy as np\n",
    "arr=np.array([1.2, 2.3, 3.4, 4.5])\n",
    "integer_arr=arr.astype(int)\n",
    "print(integer_arr) # Output: [1 2 3 4]"
   ]
  },
  {
   "cell_type": "code",
   "execution_count": 4,
   "id": "32885726",
   "metadata": {},
   "outputs": [
    {
     "name": "stdout",
     "output_type": "stream",
     "text": [
      "900 ns ± 138 ns per loop (mean ± std. dev. of 7 runs, 100,000 loops each)\n"
     ]
    }
   ],
   "source": [
    "%timeit integer_arr=arr.astype(int) # 1.2,2.3,3.4,4.5=>1,2,3,4"
   ]
  },
  {
   "cell_type": "code",
   "execution_count": 5,
   "id": "638ae5d5",
   "metadata": {},
   "outputs": [
    {
     "name": "stdout",
     "output_type": "stream",
     "text": [
      "3.66 μs ± 816 ns per loop (mean ± std. dev. of 7 runs, 100,000 loops each)\n"
     ]
    }
   ],
   "source": [
    "%timeit [j**4 for j in range (1,9)]#\n",
    "# list timings=3.1s"
   ]
  },
  {
   "cell_type": "code",
   "execution_count": 6,
   "metadata": {},
   "outputs": [
    {
     "name": "stdout",
     "output_type": "stream",
     "text": [
      "3.29 μs ± 565 ns per loop (mean ± std. dev. of 7 runs, 100,000 loops each)\n"
     ]
    }
   ],
   "source": [
    "import numpy as np\n",
    "%timeit np.arange(1,9)**4 # 1,2,3,4,5,6,7,8=>1,16,81,256,625,1296,2401,4096\n",
    "# it consumed less timings than list comprehension"
   ]
  },
  {
   "cell_type": "code",
   "execution_count": 7,
   "metadata": {},
   "outputs": [
    {
     "name": "stdout",
     "output_type": "stream",
     "text": [
      "[3 4 1 2]\n",
      "1\n",
      "(4,)\n"
     ]
    }
   ],
   "source": [
    "import numpy as np\n",
    "l=[]\n",
    "for i in range(1,5):\n",
    "    inp=int(input(\"Enter ur number:\"))\n",
    "    l.append(inp)\n",
    "x=np.array(l)\n",
    "print(x)\n",
    "print(x.ndim) # 1D array\n",
    "print(x.shape) # 5 elements in 1D array\n",
    " "
   ]
  },
  {
   "cell_type": "code",
   "execution_count": 8,
   "metadata": {},
   "outputs": [
    {
     "name": "stdout",
     "output_type": "stream",
     "text": [
      "[[1 2 3]\n",
      " [4 5 6]]\n",
      "2\n",
      "(2, 3)\n"
     ]
    }
   ],
   "source": [
    "arr=np.array([[1,2,3],[4,5,6]])\n",
    "print(arr)\n",
    "print(arr.ndim) # 2D array\n",
    "print(arr.shape) # 2 rows and 3 columns(2,3)"
   ]
  },
  {
   "cell_type": "code",
   "execution_count": 9,
   "metadata": {},
   "outputs": [
    {
     "name": "stdout",
     "output_type": "stream",
     "text": [
      "[[[1, 2, 3], [1, 2, 3], [1, 2, 3]], [[1, 2, 3], [1, 2, 3], [1, 2, 3]]]\n",
      "41.2 ns ± 13.1 ns per loop (mean ± std. dev. of 7 runs, 10,000,000 loops each)\n"
     ]
    }
   ],
   "source": [
    "lis=[[[1,2,3],[1,2,3],[1,2,3]],[[1,2,3],[1,2,3],[1,2,3]]]\n",
    "print(lis)\n",
    "%timeit lis"
   ]
  },
  {
   "cell_type": "code",
   "execution_count": 10,
   "id": "5ce9b037",
   "metadata": {},
   "outputs": [
    {
     "name": "stdout",
     "output_type": "stream",
     "text": [
      "5.49 μs ± 995 ns per loop (mean ± std. dev. of 7 runs, 100,000 loops each)\n",
      "2\n"
     ]
    }
   ],
   "source": [
    "import numpy as np\n",
    "%timeit np.array([[[1,2,3],[1,2,3],[1,2,3]],[[1,2,3],[1,2,3],[1,2,3]]])\n",
    "print(arr.ndim) # 3D array"
   ]
  },
  {
   "cell_type": "code",
   "execution_count": 11,
   "metadata": {},
   "outputs": [
    {
     "name": "stdout",
     "output_type": "stream",
     "text": [
      "[[[[[[[[[[1 2 3 4]]]]]]]]]]\n",
      "10\n",
      "(1, 1, 1, 1, 1, 1, 1, 1, 1, 4)\n"
     ]
    }
   ],
   "source": [
    "# to create 10D array\n",
    "import numpy as np\n",
    "arr=np.array([1,2,3,4],ndmin=10)\n",
    "print(arr)\n",
    "print(arr.ndim) # 10D array\n",
    "print(arr.shape) # 1D array with 10 dimensions"
   ]
  },
  {
   "cell_type": "code",
   "execution_count": 12,
   "metadata": {},
   "outputs": [
    {
     "name": "stdout",
     "output_type": "stream",
     "text": [
      "[0. 0. 0. 0.]\n"
     ]
    }
   ],
   "source": [
    "# zeros array\n",
    "import numpy as np\n",
    "arr=np.zeros(4)\n",
    "print(arr)\n"
   ]
  },
  {
   "cell_type": "code",
   "execution_count": 13,
   "metadata": {},
   "outputs": [
    {
     "name": "stdout",
     "output_type": "stream",
     "text": [
      "[[0. 0. 0.]\n",
      " [0. 0. 0.]]\n",
      "2\n"
     ]
    }
   ],
   "source": [
    "import numpy as np\n",
    "arr=np.zeros((2,3))\n",
    "print(arr) # 2 rows and 3 columns with 0 values\n",
    "print(arr.ndim) # 2D array"
   ]
  },
  {
   "cell_type": "code",
   "execution_count": 14,
   "id": "731eaf6c",
   "metadata": {},
   "outputs": [
    {
     "name": "stdout",
     "output_type": "stream",
     "text": [
      "[[1. 1. 1.]\n",
      " [1. 1. 1.]]\n",
      "2\n"
     ]
    }
   ],
   "source": [
    "import numpy as np\n",
    "arr=np.ones((2,3))\n",
    "print(arr) # 2 rows and 3 columns with 0 values\n",
    "print(arr.ndim) # 2D array"
   ]
  },
  {
   "cell_type": "code",
   "execution_count": 15,
   "metadata": {},
   "outputs": [
    {
     "name": "stdout",
     "output_type": "stream",
     "text": [
      "[[1. 1. 1.]\n",
      " [1. 1. 1.]]\n",
      "2\n"
     ]
    }
   ],
   "source": [
    "import numpy as np\n",
    "arr=np.empty((2,3))\n",
    "print(arr) # 2 rows and 3 columns with 0 values\n",
    "print(arr.ndim) # 2D array"
   ]
  },
  {
   "cell_type": "code",
   "execution_count": 16,
   "metadata": {},
   "outputs": [
    {
     "name": "stdout",
     "output_type": "stream",
     "text": [
      "[0 1 2 3 4 5 6 7 8 9]\n",
      "1\n"
     ]
    }
   ],
   "source": [
    "import numpy as np\n",
    "arr=np.arange(10)\n",
    "print(arr) # 2 rows and 3 columns with 0 values\n",
    "print(arr.ndim) # 2D array"
   ]
  },
  {
   "cell_type": "code",
   "execution_count": 17,
   "metadata": {},
   "outputs": [
    {
     "name": "stdout",
     "output_type": "stream",
     "text": [
      "[[1. 0. 0. 0. 0. 0.]\n",
      " [0. 1. 0. 0. 0. 0.]\n",
      " [0. 0. 1. 0. 0. 0.]\n",
      " [0. 0. 0. 1. 0. 0.]]\n",
      "\n",
      "[[1. 0. 0. 0. 0.]\n",
      " [0. 1. 0. 0. 0.]\n",
      " [0. 0. 1. 0. 0.]\n",
      " [0. 0. 0. 1. 0.]\n",
      " [0. 0. 0. 0. 1.]]\n"
     ]
    }
   ],
   "source": [
    "# diaagonal\n",
    "import numpy as np\n",
    "arr=np.eye(4,6)\n",
    "print(arr)\n",
    "print()\n",
    "import numpy as np\n",
    "arr=np.eye(5)\n",
    "print(arr)"
   ]
  },
  {
   "cell_type": "code",
   "execution_count": 18,
   "id": "7f959819",
   "metadata": {},
   "outputs": [
    {
     "name": "stdout",
     "output_type": "stream",
     "text": [
      "[ 0.  5. 10. 15. 20.]\n"
     ]
    }
   ],
   "source": [
    "import numpy as np\n",
    "x=np.linspace(0,20,num=5)\n",
    "print(x)"
   ]
  },
  {
   "cell_type": "code",
   "execution_count": 19,
   "id": "313f62b4",
   "metadata": {},
   "outputs": [
    {
     "name": "stdout",
     "output_type": "stream",
     "text": [
      "[0.0224274  0.82276222 0.06012473 0.26001013]\n",
      "\n",
      "2\n",
      "\n",
      "[19 17 17 13 16]\n",
      "\n",
      "[ 0.92040273 -1.00200278  0.11082838  0.50065884]\n",
      "\n",
      "[0.92129872 0.42729691 0.02320263 0.39009896]\n"
     ]
    }
   ],
   "source": [
    "import numpy as np\n",
    "x=np.random.rand(4)\n",
    "print(x)\n",
    "print()\n",
    "x=np.random.choice(4)\n",
    "print(x)\n",
    "print()\n",
    "x=np.random.randint(4,20,5)\n",
    "print(x)\n",
    "print()\n",
    "x=np.random.randn(4)\n",
    "print(x)\n",
    "print()\n",
    "x=np.random.ranf(4)\n",
    "print(x)"
   ]
  },
  {
   "cell_type": "code",
   "execution_count": 20,
   "id": "01285533",
   "metadata": {},
   "outputs": [
    {
     "name": "stdout",
     "output_type": "stream",
     "text": [
      "[ 1  2  3  4  5 12 12  3  4  5]\n",
      "int64\n"
     ]
    }
   ],
   "source": [
    "# check datatype\n",
    "import numpy as np\n",
    "x=np.array([1,2,3,4,5,12,12,3,4,5])\n",
    "print(x)\n",
    "print(x.dtype)"
   ]
  },
  {
   "cell_type": "code",
   "execution_count": 21,
   "id": "0fcaad01",
   "metadata": {},
   "outputs": [
    {
     "name": "stdout",
     "output_type": "stream",
     "text": [
      "['anu' 'shy' 'wer' 'war']\n",
      "<U3\n"
     ]
    }
   ],
   "source": [
    "# check datatype\n",
    "import numpy as np\n",
    "x=np.array([\"anu\",\"shy\",\"wer\",\"war\"])\n",
    "print(x)\n",
    "print(x.dtype)"
   ]
  },
  {
   "cell_type": "code",
   "execution_count": 22,
   "id": "164b4dc7",
   "metadata": {},
   "outputs": [
    {
     "name": "stdout",
     "output_type": "stream",
     "text": [
      "[ 1.  2.  3.  4.  5. 12. 12.  3.  4.  5.]\n",
      "[ 1  2  3  4  5 12 12  3  4  5]\n",
      "float32\n",
      "int32\n"
     ]
    }
   ],
   "source": [
    "# check datatype, make it float\n",
    "import numpy as np\n",
    "x=np.array([1,2,3,4,5,12,12,3,4,5],dtype=\"f\")\n",
    "new=np.int32(x)\n",
    "print(x)\n",
    "print(new)\n",
    "print(x.dtype)\n",
    "print(new.dtype)"
   ]
  },
  {
   "cell_type": "code",
   "execution_count": 23,
   "id": "b385de33",
   "metadata": {},
   "outputs": [
    {
     "name": "stdout",
     "output_type": "stream",
     "text": [
      "[1 2 3 4 5]\n",
      "['1' '2' '3' '4' '5']\n"
     ]
    }
   ],
   "source": [
    "# Type conversion\n",
    "import numpy as np\n",
    "x=np.array([1,2,3,4,5])\n",
    "new=x.astype(str)\n",
    "print(x)\n",
    "print(new)\n"
   ]
  },
  {
   "cell_type": "code",
   "execution_count": 24,
   "id": "d90835e1",
   "metadata": {},
   "outputs": [
    {
     "name": "stdout",
     "output_type": "stream",
     "text": [
      "[20 30 38 47 57 67]\n"
     ]
    }
   ],
   "source": [
    "import numpy as np\n",
    "x=np.array([1,2,3,4,5,6])\n",
    "y=np.array([19,28,35,43,52,61])\n",
    "z=np.add(x,y)\n",
    "print(z)"
   ]
  },
  {
   "cell_type": "code",
   "execution_count": 25,
   "id": "e4a66397",
   "metadata": {},
   "outputs": [
    {
     "name": "stdout",
     "output_type": "stream",
     "text": [
      "[1 2 3 4 6]\n",
      "[ 5  6  7  8 10]\n"
     ]
    }
   ],
   "source": [
    "import numpy as np\n",
    "x=np.array([1,2,3,4,6])\n",
    "y=x+4\n",
    "print(x)\n",
    "print(y)"
   ]
  },
  {
   "cell_type": "code",
   "execution_count": 26,
   "id": "5599fb50",
   "metadata": {},
   "outputs": [
    {
     "name": "stdout",
     "output_type": "stream",
     "text": [
      "[-18 -26 -32 -39 -47 -55]\n"
     ]
    }
   ],
   "source": [
    "import numpy as np\n",
    "x=np.array([1,2,3,4,5,6])\n",
    "y=np.array([19,28,35,43,52,61])\n",
    "z=np.subtract(x,y)\n",
    "print(z)"
   ]
  },
  {
   "cell_type": "code",
   "execution_count": 27,
   "id": "25c8c544",
   "metadata": {},
   "outputs": [
    {
     "name": "stdout",
     "output_type": "stream",
     "text": [
      "[ 19  56 105 172 260 366]\n"
     ]
    }
   ],
   "source": [
    "import numpy as np\n",
    "x=np.array([1,2,3,4,5,6])\n",
    "y=np.array([19,28,35,43,52,61])\n",
    "z=np.multiply(x,y)\n",
    "print(z)"
   ]
  },
  {
   "cell_type": "code",
   "execution_count": 28,
   "id": "6235887a",
   "metadata": {},
   "outputs": [
    {
     "name": "stdout",
     "output_type": "stream",
     "text": [
      "[0.05263158 0.07142857 0.08571429 0.09302326 0.09615385 0.09836066]\n"
     ]
    }
   ],
   "source": [
    "import numpy as np\n",
    "x=np.array([1,2,3,4,5,6])\n",
    "y=np.array([19,28,35,43,52,61])\n",
    "z=np.divide(x,y)\n",
    "print(z)"
   ]
  },
  {
   "cell_type": "code",
   "execution_count": 29,
   "id": "d4c774c6",
   "metadata": {},
   "outputs": [
    {
     "name": "stdout",
     "output_type": "stream",
     "text": [
      "[1 2 3 4 5 6]\n"
     ]
    }
   ],
   "source": [
    "import numpy as np\n",
    "x=np.array([1,2,3,4,5,6])\n",
    "y=np.array([19,28,35,43,52,61])\n",
    "z=np.mod(x,y)\n",
    "print(z)"
   ]
  },
  {
   "cell_type": "code",
   "execution_count": 30,
   "id": "d921b434",
   "metadata": {},
   "outputs": [
    {
     "name": "stdout",
     "output_type": "stream",
     "text": [
      "[1 0 0 0 0 0]\n"
     ]
    }
   ],
   "source": [
    "import numpy as np\n",
    "x=np.array([1,2,3,4,5,6])\n",
    "y=np.array([19,28,35,43,52,61])\n",
    "z=np.reciprocal(x,y)\n",
    "print(z)"
   ]
  },
  {
   "cell_type": "code",
   "execution_count": 31,
   "id": "092e1c66",
   "metadata": {},
   "outputs": [
    {
     "name": "stdout",
     "output_type": "stream",
     "text": [
      "[1 2 3 4 5]\n",
      "1\n"
     ]
    }
   ],
   "source": [
    "import numpy as np\n",
    "x=np.array([1,2,3,4,5])\n",
    "y=np.min(x)\n",
    "print(x)\n",
    "print(y)\n"
   ]
  },
  {
   "cell_type": "code",
   "execution_count": 32,
   "id": "1484aab5",
   "metadata": {},
   "outputs": [
    {
     "name": "stdout",
     "output_type": "stream",
     "text": [
      "[1 2 3 4 5]\n",
      "5\n"
     ]
    }
   ],
   "source": [
    "import numpy as np\n",
    "x=np.array([1,2,3,4,5])\n",
    "y=np.max(x)\n",
    "print(x)\n",
    "print(y)\n"
   ]
  },
  {
   "cell_type": "code",
   "execution_count": 33,
   "id": "f841d501",
   "metadata": {},
   "outputs": [
    {
     "name": "stdout",
     "output_type": "stream",
     "text": [
      "[1 2 3 4 5]\n",
      "4\n"
     ]
    }
   ],
   "source": [
    "import numpy as np\n",
    "x=np.array([1,2,3,4,5])\n",
    "y=np.argmax(x)\n",
    "print(x)\n",
    "print(y)\n"
   ]
  },
  {
   "cell_type": "code",
   "execution_count": 34,
   "id": "093904ff",
   "metadata": {},
   "outputs": [
    {
     "name": "stdout",
     "output_type": "stream",
     "text": [
      "[1 2 3 4 5]\n",
      "0\n"
     ]
    }
   ],
   "source": [
    "import numpy as np\n",
    "x=np.array([1,2,3,4,5])\n",
    "y=np.argmin(x)\n",
    "print(x)\n",
    "print(y)\n"
   ]
  },
  {
   "cell_type": "code",
   "execution_count": 35,
   "id": "209aa914",
   "metadata": {},
   "outputs": [
    {
     "name": "stdout",
     "output_type": "stream",
     "text": [
      "[1 2 3 4]\n"
     ]
    }
   ],
   "source": [
    "# axis accessing\n",
    "import numpy as np\n",
    "x=np.array([[1,2,3,4],[1,6,7,8]])\n",
    "print(np.min(x,axis=0))"
   ]
  },
  {
   "cell_type": "code",
   "execution_count": 36,
   "id": "0969dffa",
   "metadata": {},
   "outputs": [
    {
     "name": "stdout",
     "output_type": "stream",
     "text": [
      "[1 2 3 4 5]\n",
      "[1.         1.41421356 1.73205081 2.         2.23606798]\n"
     ]
    }
   ],
   "source": [
    "import numpy as np\n",
    "x=np.array([1,2,3,4,5])\n",
    "y=np.sqrt(x)\n",
    "print(x)\n",
    "print(y)\n"
   ]
  },
  {
   "cell_type": "code",
   "execution_count": 37,
   "id": "33c13bd6",
   "metadata": {},
   "outputs": [
    {
     "name": "stdout",
     "output_type": "stream",
     "text": [
      "[1 2 3 4 5]\n",
      "[ 0.84147098  0.90929743  0.14112001 -0.7568025  -0.95892427]\n"
     ]
    }
   ],
   "source": [
    "import numpy as np\n",
    "x=np.array([1,2,3,4,5])\n",
    "y=np.sin(x)\n",
    "print(x)\n",
    "print(y)\n"
   ]
  },
  {
   "cell_type": "code",
   "execution_count": 38,
   "metadata": {},
   "outputs": [
    {
     "name": "stdout",
     "output_type": "stream",
     "text": [
      "[1 2 3 4 5]\n",
      "[ 0.54030231 -0.41614684 -0.9899925  -0.65364362  0.28366219]\n"
     ]
    }
   ],
   "source": [
    "import numpy as np\n",
    "x=np.array([1,2,3,4,5])\n",
    "y=np.cos(x)\n",
    "print(x)\n",
    "print(y)\n"
   ]
  },
  {
   "cell_type": "code",
   "execution_count": 39,
   "metadata": {},
   "outputs": [
    {
     "name": "stdout",
     "output_type": "stream",
     "text": [
      "[1 2 3 4 5]\n",
      "[ 1.55740772 -2.18503986 -0.14254654  1.15782128 -3.38051501]\n"
     ]
    }
   ],
   "source": [
    "import numpy as np\n",
    "x=np.array([1,2,3,4,5])\n",
    "y=np.tan(x)\n",
    "print(x)\n",
    "print(y)\n"
   ]
  },
  {
   "cell_type": "code",
   "execution_count": 40,
   "id": "b3b57477",
   "metadata": {},
   "outputs": [
    {
     "name": "stdout",
     "output_type": "stream",
     "text": [
      "[1 2 3 4 5]\n",
      "[ 1  3  6 10 15]\n"
     ]
    }
   ],
   "source": [
    "import numpy as np\n",
    "x=np.array([1,2,3,4,5])\n",
    "y=np.cumsum(x) #cumulative sum\n",
    "print(x)\n",
    "print(y)\n"
   ]
  },
  {
   "cell_type": "code",
   "execution_count": 41,
   "metadata": {},
   "outputs": [
    {
     "name": "stdout",
     "output_type": "stream",
     "text": [
      "1\n",
      "[[ 1  2  3]\n",
      " [ 4  5  6]\n",
      " [ 7  8  9]\n",
      " [10 11 12]\n",
      " [13 14 15]\n",
      " [16 17 18]\n",
      " [19 20 21]]\n",
      "2\n"
     ]
    }
   ],
   "source": [
    "# transform any dimension to any dimension\n",
    "import numpy as np\n",
    "x=np.array([1,2,3,4,5,6,7,8,9,10,11,12,13,14,15,16,17,18,19,20,21])\n",
    "print(x.ndim)\n",
    "\n",
    "y=x.reshape(7,3)\n",
    "print(y)\n",
    "print(y.ndim)"
   ]
  },
  {
   "cell_type": "code",
   "execution_count": 42,
   "metadata": {},
   "outputs": [
    {
     "name": "stdout",
     "output_type": "stream",
     "text": [
      "[-5.   -4.75 -4.5  -4.25 -4.   -3.75 -3.5  -3.25 -3.   -2.75 -2.5  -2.25\n",
      " -2.   -1.75 -1.5  -1.25 -1.   -0.75 -0.5  -0.25  0.    0.25  0.5   0.75\n",
      "  1.    1.25  1.5   1.75  2.    2.25  2.5   2.75  3.    3.25  3.5   3.75\n",
      "  4.    4.25  4.5   4.75]\n"
     ]
    }
   ],
   "source": [
    "import numpy as np\n",
    "h11=np.arange(-5, 5, 0.25)\n",
    "print(h11)"
   ]
  },
  {
   "cell_type": "code",
   "execution_count": 43,
   "id": "37f8a307",
   "metadata": {},
   "outputs": [
    {
     "name": "stdout",
     "output_type": "stream",
     "text": [
      "(4,)\n",
      "[1 2 3 4]\n"
     ]
    }
   ],
   "source": [
    "import numpy as np\n",
    "a=np.array([1,2,3,4])\n",
    "print(a.shape)\n",
    "# b=np.array([1,2,3])=>it leads broadcast error, it means u have to give the same shape of coloumns and dimensions\n",
    "# it cannot be (1*3) and (3*1), it has to be (1*3) and (1*3)\n",
    "print(a)"
   ]
  },
  {
   "cell_type": "code",
   "execution_count": 44,
   "id": "d48d974b",
   "metadata": {},
   "outputs": [
    {
     "name": "stdout",
     "output_type": "stream",
     "text": [
      "(3,)\n",
      "(4, 1)\n",
      "[[2 3 4]\n",
      " [3 4 5]\n",
      " [4 5 6]\n",
      " [5 6 7]]\n"
     ]
    }
   ],
   "source": [
    "a=np.array([1,2,3])\n",
    "print(a.shape)\n",
    "b=np.array([[1],[2],[3],[4]])\n",
    "print(b.shape)\n",
    "print(a+b)"
   ]
  },
  {
   "cell_type": "code",
   "execution_count": 45,
   "id": "b53630e6",
   "metadata": {},
   "outputs": [
    {
     "name": "stdout",
     "output_type": "stream",
     "text": [
      "2\n",
      "3\n",
      "//////////////////////////////////////////////////////////\n",
      "2\n",
      "2\n",
      "//////////////////////////////////////////////////////////\n",
      "3\n",
      "12\n",
      "[[[ 1  2  3]\n",
      "  [ 4  5  6]]\n",
      "\n",
      " [[ 7  8  9]\n",
      "  [10 11 12]]\n",
      "\n",
      " [[13 14 15]\n",
      "  [16 17 18]]\n",
      "\n",
      " [[19 20 21]\n",
      "  [22 23 24]]]\n"
     ]
    }
   ],
   "source": [
    "# indexing \n",
    "a=np.array([1,2,3,4])\n",
    "print(a[1])\n",
    "print(a[-2])\n",
    "print('''//////////////////////////////////////////////////////////''')\n",
    "b=np.array([[1,2,3],[1,2,3]])\n",
    "print(b.ndim)\n",
    "print(b[0,1])\n",
    "print('''//////////////////////////////////////////////////////////''')\n",
    "c=np.array([[[1,2,3],[4,5,6]],[[7,8,9],[10,11,12]],[[13,14,15],[16,17,18]],[[19,20,21],[22,23,24]]])\n",
    "print(c.ndim)\n",
    "print(c[1,1,2])\n",
    "print(c)"
   ]
  },
  {
   "cell_type": "code",
   "execution_count": 3,
   "id": "3058b5e5",
   "metadata": {},
   "outputs": [
    {
     "name": "stdout",
     "output_type": "stream",
     "text": [
      "[1 2]\n",
      "[1]\n"
     ]
    }
   ],
   "source": [
    "import numpy as np\n",
    "a=np.array([0,1,2,3,4,5,6,7,8,9])\n",
    "print(a[1:3])\n",
    "print(a[1:3:5])"
   ]
  },
  {
   "cell_type": "code",
   "execution_count": 11,
   "id": "9522769c",
   "metadata": {},
   "outputs": [
    {
     "name": "stdout",
     "output_type": "stream",
     "text": [
      "[[1 2 3]\n",
      " [1 2 3]\n",
      " [1 2 3]]\n",
      "[2 3]\n"
     ]
    }
   ],
   "source": [
    "import numpy as np\n",
    "li= np.array([[1,2,3],[1,2,3],[1,2,3]])\n",
    "print(li)\n",
    "print(li[1,1:])"
   ]
  },
  {
   "cell_type": "code",
   "execution_count": 14,
   "metadata": {},
   "outputs": [
    {
     "name": "stdout",
     "output_type": "stream",
     "text": [
      "[1 2 3]\n",
      "[1 2 3]\n",
      "\n",
      "1\n",
      "2\n",
      "3\n",
      "1\n",
      "2\n",
      "3\n"
     ]
    }
   ],
   "source": [
    "import numpy as np\n",
    "a=np.array([[1,2,3],[1,2,3]])\n",
    "for i in a:\n",
    "    print(i)\n",
    "print()\n",
    "for j in a:\n",
    "    for k in j:\n",
    "        print(k)\n"
   ]
  },
  {
   "cell_type": "code",
   "execution_count": 22,
   "metadata": {},
   "outputs": [
    {
     "name": "stdout",
     "output_type": "stream",
     "text": [
      "3\n",
      "1\n",
      "2\n",
      "3\n",
      "4\n",
      "5\n",
      "6\n",
      "1\n",
      "2\n",
      "3\n",
      "4\n",
      "5\n",
      "6\n",
      "////////////////////////////////////////////////////////////////\n",
      "1\n",
      "2\n",
      "3\n",
      "4\n",
      "5\n",
      "6\n",
      "1\n",
      "2\n",
      "3\n",
      "4\n",
      "5\n",
      "6\n"
     ]
    }
   ],
   "source": [
    "import numpy as np\n",
    "a=np.array([[[1,2,3],[4,5,6]],[[1,2,3],[4,5,6]]])\n",
    "print(a.ndim)\n",
    "for i in a:\n",
    "    for j in i:\n",
    "        for k in j:\n",
    "            print(k)\n",
    "print(\"////////////////////////////////////////////////////////////////\")\n",
    "            # or\n",
    "for i in np.nditer(a):\n",
    "    print(i)"
   ]
  },
  {
   "cell_type": "code",
   "execution_count": 23,
   "metadata": {},
   "outputs": [
    {
     "name": "stdout",
     "output_type": "stream",
     "text": [
      "3\n",
      "np.bytes_(b'1')\n",
      "np.bytes_(b'2')\n",
      "np.bytes_(b'3')\n",
      "np.bytes_(b'4')\n",
      "np.bytes_(b'5')\n",
      "np.bytes_(b'6')\n",
      "np.bytes_(b'1')\n",
      "np.bytes_(b'2')\n",
      "np.bytes_(b'3')\n",
      "np.bytes_(b'4')\n",
      "np.bytes_(b'5')\n",
      "np.bytes_(b'6')\n"
     ]
    }
   ],
   "source": [
    "import numpy as np\n",
    "a=np.array([[[1,2,3],[4,5,6]],[[1,2,3],[4,5,6]]])\n",
    "print(a.ndim)\n",
    "for i in np.nditer(a,flags=['buffered'],op_dtypes=[\"S\"]):\n",
    "    print(i)"
   ]
  },
  {
   "cell_type": "code",
   "execution_count": 28,
   "metadata": {},
   "outputs": [
    {
     "name": "stdout",
     "output_type": "stream",
     "text": [
      "3\n",
      "(0, 0, 0) and 1\n",
      "(0, 0, 1) and 2\n",
      "(0, 0, 2) and 3\n",
      "(0, 1, 0) and 4\n",
      "(0, 1, 1) and 5\n",
      "(0, 1, 2) and 6\n",
      "(1, 0, 0) and 1\n",
      "(1, 0, 1) and 2\n",
      "(1, 0, 2) and 3\n",
      "(1, 1, 0) and 4\n",
      "(1, 1, 1) and 5\n",
      "(1, 1, 2) and 6\n"
     ]
    }
   ],
   "source": [
    "import numpy as np\n",
    "a=np.array([[[1,2,3],[4,5,6]],[[1,2,3],[4,5,6]]])\n",
    "print(a.ndim)\n",
    "for i ,index in np.ndenumerate(a):\n",
    "    print(f\"{i} and {index}\")"
   ]
  },
  {
   "cell_type": "code",
   "execution_count": null,
   "metadata": {},
   "outputs": [
    {
     "name": "stdout",
     "output_type": "stream",
     "text": [
      "[1 2 5 4 5 6 1 2 4 4 5 6]\n",
      "[1 9 5 4 5 6 1 2 4 4 5 6] and [1 2 5 4 5 6 1 2 4 4 5 6]\n",
      "///////////////////////\n",
      "[1 9 5 4 5 6 1 2 4 4 5 6]\n",
      "[1 9 5 4 5 6 1 2 4 4 5 6] and [1 9 5 4 5 6 1 2 4 4 5 6]\n"
     ]
    }
   ],
   "source": [
    "# COPY AND VIEWS\n",
    "import numpy as np\n",
    "a=np.array([1,2,5,4,5,6,1,2,4,4,5,6])\n",
    "b=a.copy()\n",
    "print(b) #independent, won't change even if u change main\n",
    "a[1]=9\n",
    "print(a ,\"and\",b)\n",
    "print(\"///////////////////////\")\n",
    "c=a.view()\n",
    "print(c) #dependent, change if u change main\n",
    "a[1]=9\n",
    "print(a ,\"and\",c)"
   ]
  },
  {
   "cell_type": "code",
   "execution_count": 57,
   "id": "c5a8a0dc",
   "metadata": {},
   "outputs": [
    {
     "name": "stdout",
     "output_type": "stream",
     "text": [
      "[[1 2 5 6]\n",
      " [3 4 7 8]]\n"
     ]
    }
   ],
   "source": [
    "# JOINING ARRAYS\n",
    "import numpy as np\n",
    "a=np.array([[1,2],[3,4]])\n",
    "b=np.array([[5,6],[7,8]])\n",
    "c=np.concatenate((a, b),axis=1)\n",
    "print(c)\n"
   ]
  },
  {
   "cell_type": "code",
   "execution_count": 63,
   "id": "6bd2c983",
   "metadata": {},
   "outputs": [
    {
     "name": "stdout",
     "output_type": "stream",
     "text": [
      "[[1 5]\n",
      " [2 6]\n",
      " [3 7]\n",
      " [4 8]\n",
      " [5 9]]\n",
      "\n",
      "[1 2 3 4 5 5 6 7 8 9]\n",
      "\n",
      "[[1 2 3 4 5]\n",
      " [5 6 7 8 9]]\n",
      "\n",
      "[[[1 5]\n",
      "  [2 6]\n",
      "  [3 7]\n",
      "  [4 8]\n",
      "  [5 9]]]\n"
     ]
    }
   ],
   "source": [
    "import numpy as np\n",
    "a=np.array([1,2,3,4,5])\n",
    "b=np.array([5,6,7,8,9])\n",
    "c=np.stack((a,b),axis=1)\n",
    "print(c)\n",
    "print()\n",
    "# or\n",
    "d=np.hstack((a,b))\n",
    "print(d)\n",
    "print()\n",
    "# or\n",
    "e=np.vstack((a,b))\n",
    "print(e)\n",
    "print()\n",
    "# or\n",
    "f=np.dstack((a,b))\n",
    "print(f)\n"
   ]
  },
  {
   "cell_type": "code",
   "execution_count": 70,
   "id": "2a998858",
   "metadata": {},
   "outputs": [
    {
     "name": "stdout",
     "output_type": "stream",
     "text": [
      "[array([[1, 2]]), array([[3, 4]]), array([[5, 9]])]\n",
      "[array([[1],\n",
      "       [3],\n",
      "       [5]]), array([[2],\n",
      "       [4],\n",
      "       [9]]), array([], shape=(3, 0), dtype=int64)]\n"
     ]
    }
   ],
   "source": [
    "# SPLIT\n",
    "import numpy as np\n",
    "a=np.array([[1,2],[3,4],[5,9]])\n",
    "ar=np.array_split(a,3)\n",
    "ar1=np.array_split(a,3,axis=1)\n",
    "print(ar)\n",
    "print(ar1)"
   ]
  },
  {
   "cell_type": "code",
   "execution_count": null,
   "id": "daaba090",
   "metadata": {},
   "outputs": [
    {
     "name": "stdout",
     "output_type": "stream",
     "text": [
      "(array([ 1,  6, 11]),)\n",
      "(array([ 1,  3,  6,  8, 11, 13]),)\n"
     ]
    }
   ],
   "source": [
    "import numpy as np\n",
    "a=np.array([1,2,3,4,5,1,2,3,4,5,1,2,3,4,5])\n",
    "        #   0 1 2 3 4 5 6 7 8 9 10 11 12 13 14\n",
    "b=np.where(a==2)\n",
    "print(b) #give index where 2 lies\n",
    "c=np.where((a%2)==0)\n",
    "print(c)\n"
   ]
  },
  {
   "cell_type": "code",
   "execution_count": 75,
   "id": "dd2a86c9",
   "metadata": {},
   "outputs": [
    {
     "name": "stdout",
     "output_type": "stream",
     "text": [
      "[14 15 15]\n"
     ]
    }
   ],
   "source": [
    "import numpy as np\n",
    "a=np.array([1,2,3,4,5,1,2,3,4,5,1,2,3,4,5])\n",
    "        #   0 1 2 3 4 5 6 7 8 9 10 11 12 13 14\n",
    "b=np.searchsorted(a,[5,6,7],side=\"left\")\n",
    "print(b)"
   ]
  },
  {
   "cell_type": "code",
   "execution_count": 76,
   "id": "ca84ba03",
   "metadata": {},
   "outputs": [
    {
     "name": "stdout",
     "output_type": "stream",
     "text": [
      "[1 1 1 2 2 2 3 3 3 4 4 4 5 5 5]\n"
     ]
    }
   ],
   "source": [
    "import numpy as np\n",
    "a=np.array([1,2,3,4,5,1,2,3,4,5,1,2,3,4,5])\n",
    "        #   0 1 2 3 4 5 6 7 8 9 10 11 12 13 14\n",
    "b=np.sort(a)\n",
    "print(b)"
   ]
  },
  {
   "cell_type": "code",
   "execution_count": 80,
   "id": "cda8c6d6",
   "metadata": {},
   "outputs": [
    {
     "name": "stdout",
     "output_type": "stream",
     "text": [
      "[1 2 5 1 2 4 1 3 5]\n",
      "<class 'numpy.ndarray'>\n"
     ]
    }
   ],
   "source": [
    "# Filtering\n",
    "import numpy as np\n",
    "a=np.array([1,2,3,4,5,1,2,3,4,5,1,2,3,4,5])\n",
    "        #   0 1 2 3 4 5 6 7 8 9 10 11 12 13 14\n",
    "f=[True, True, False, False, True, True, True, False, True, False, True, False, True, False, True]  # Adjusted length to match 'a'\n",
    "g=a[f]\n",
    "print(g)\n",
    "print(type(g))"
   ]
  },
  {
   "cell_type": "code",
   "execution_count": 115,
   "id": "705a30c4",
   "metadata": {},
   "outputs": [
    {
     "name": "stdout",
     "output_type": "stream",
     "text": [
      "[2 4 5 3 3 2 4 1 1 5 2 4 3 5 1]\n",
      "[2 4 5 3 3 2 4 1 1 5 2 4 3 5 1]\n",
      "[1 2 3 4 5]\n",
      "(array([1, 2, 3, 4, 5]), array([0, 1, 2, 3, 4]), array([3, 3, 3, 3, 3]))\n",
      "[[1 2 3 4]\n",
      " [5 1 2 3]\n",
      " [4 5 1 2]]\n"
     ]
    }
   ],
   "source": [
    "# BUILT IN FUNCTIONS\n",
    "import numpy as np\n",
    "a=np.array([1,2,3,4,5,1,2,3,4,5,1,2,3,4,5])\n",
    "        #   0 1 2 3 4 5 6 7 8 9 10 11 12 13 14\n",
    "np.random.shuffle(a)\n",
    "print(a)\n",
    "np.random.choice(1,7)\n",
    "print(a)\n",
    "# 2)Unique\n",
    "import numpy as np\n",
    "a=np.array([1,2,3,4,5,1,2,3,4,5,1,2,3,4,5])\n",
    "        #   0 1 2 3 4 5 6 7 8 9 10 11 12 13 14\n",
    "b=np.unique(a)\n",
    "print(b)\n",
    "c=np.unique(a,return_index=True,return_counts=True)\n",
    "print(c)\n",
    "# 3)Resize\n",
    "d=np.resize(a,(3,4))\n",
    "print(d)\n"
   ]
  },
  {
   "cell_type": "code",
   "execution_count": 118,
   "id": "ab1c0f70",
   "metadata": {},
   "outputs": [
    {
     "name": "stdout",
     "output_type": "stream",
     "text": [
      "[[1 2 3 4]\n",
      " [5 1 2 3]\n",
      " [4 5 1 2]]\n",
      "[1 2 3 4 5 1 2 3 4 5 1 2]\n",
      "\n",
      "[1 5 4 2 1 5 3 2 1 4 3 2]\n",
      "\n",
      "[1 2 3 4 5 1 2 3 4 5 1 2]\n",
      "\n",
      "[1 2 3 4 5 1 2 3 4 5 1 2]\n"
     ]
    }
   ],
   "source": [
    "# order:CFAK\n",
    "# C:-Flatten in row major\n",
    "# F:-Flatten in coloumn major\n",
    "import numpy as np\n",
    "a=np.array([1,2,3,4,5,1,2,3,4,5,1,2,3,4,5])\n",
    "        #   0 1 2 3 4 5 6 7 8 9 10 11 12 13 14\n",
    "d=np.resize(a,(3,4))\n",
    "print(d)     \n",
    "print(d.flatten(order='C')) \n",
    "print()\n",
    "print(d.flatten(order='F'))\n",
    "print()\n",
    "print(d.flatten(order='A'))\n",
    "print()\n",
    "print(d.flatten(order='K'))     \n"
   ]
  },
  {
   "cell_type": "code",
   "execution_count": 131,
   "id": "d21845ed",
   "metadata": {},
   "outputs": [
    {
     "name": "stdout",
     "output_type": "stream",
     "text": [
      "[ 1  2  3  4  5  1  2 40  3  4  5  1  2  3  4  5]\n",
      "\n",
      "[  1   2   3 400   4   5 400   1   2   3   4   5   1   2   3   4   5]\n",
      "\n",
      "[[  1 400   2 400   3]\n",
      " [  4 400   5 400   1]\n",
      " [  2 400   3 400   4]\n",
      " [  5 400   1 400   2]\n",
      " [  3 400   4 400   5]]\n",
      "\n",
      "[[  1   2   3]\n",
      " [400 400 400]\n",
      " [  4   5   1]\n",
      " [500 500 500]\n",
      " [  2   3   4]\n",
      " [  5   1   2]\n",
      " [  3   4   5]]\n"
     ]
    }
   ],
   "source": [
    "# INSERT\n",
    "import numpy as np\n",
    "a=np.array([1,2,3,4,5,1,2,3,4,5,1,2,3,4,5])\n",
    "variable=a\n",
    "position=7\n",
    "new_number=40\n",
    "b=np.insert(variable,position,new_number)\n",
    "print(b)\n",
    "print()\n",
    "variable1=a\n",
    "position1=(3,5)\n",
    "new_number1=400\n",
    "c=np.insert(variable1,position1,new_number1)\n",
    "print(c)\n",
    "print()\n",
    "e=np.array([[1,2,3],[4,5,1],[2,3,4],[5,1,2],[3,4,5]])\n",
    "variable2=e\n",
    "position2=(1, 2)  # Adjusted to valid indices for axis 1\n",
    "new_number2=400\n",
    "d=np.insert(variable2,position2,new_number2,axis=1)\n",
    "print(d)\n",
    "print()\n",
    "f=np.array([[1,2,3],[4,5,1],[2,3,4],[5,1,2],[3,4,5]])\n",
    "variable3=e\n",
    "position3=(1, 2)  # Adjusted to valid indices for axis 1\n",
    "new_number3=[[400, 400, 400], [500, 500, 500]]  # Adjusted to match the shape of rows\n",
    "g=np.insert(variable3,position3,new_number3,axis=0)\n",
    "print(g)"
   ]
  },
  {
   "cell_type": "code",
   "execution_count": null,
   "id": "f0f904a0",
   "metadata": {},
   "outputs": [
    {
     "name": "stdout",
     "output_type": "stream",
     "text": [
      "[ 1  2  3  4  5  1  2  3  4  5  1  2  3  4  5  7  8  9 10]\n",
      "[ 1  2  3  5  1  2  3  4  5  1  2  3  4  5  7  8  9 10]\n"
     ]
    }
   ],
   "source": [
    "import numpy as np\n",
    "a=np.array([1,2,3,4,5,1,2,3,4,5,1,2,3,4,5])\n",
    "b=np.append(a,[7,8,9,10])\n",
    "print(b)\n",
    "# DELETE\n",
    "c=np.delete(b,3)\n",
    "print(c)"
   ]
  },
  {
   "cell_type": "code",
   "execution_count": 162,
   "id": "499da85f",
   "metadata": {},
   "outputs": [
    {
     "name": "stdout",
     "output_type": "stream",
     "text": [
      "<class 'numpy.ndarray'>\n",
      "[[ 5 12]\n",
      " [ 3  8]]\n",
      "\n",
      "<class 'numpy.matrix'>\n",
      "[[ 7 10]\n",
      " [19 26]]\n",
      "\n",
      "[[5 1]\n",
      " [6 2]]\n",
      "\n",
      "[[5 1]\n",
      " [6 2]]\n",
      "\n",
      "[[1 2]\n",
      " [3 4]]\n",
      "swapaxes: [[1 3]\n",
      " [2 4]]\n",
      "\n",
      "[[-2.   1. ]\n",
      " [ 1.5 -0.5]]\n"
     ]
    }
   ],
   "source": [
    "# Matrix\n",
    "import numpy as np\n",
    "a=np.array([[1,2],[3,4]])\n",
    "a1=np.array([[5,6],[1,2]])\n",
    "print(type(a))\n",
    "print(a*a1)\n",
    "print()\n",
    "b=np.matrix([[1,2],[3,4]])\n",
    "b1=np.matrix([[5,6],[1,2]])\n",
    "print(type(b))\n",
    "print(b.dot(b1)) \n",
    "print()\n",
    "print(np.transpose(b1))\n",
    "print()\n",
    "print(b1.T)\n",
    "print()\n",
    "print(b)\n",
    "print(\"swapaxes:\",np.swapaxes(b,0,1))\n",
    "print()\n",
    "print(np.linalg.inv(b))\n"
   ]
  },
  {
   "cell_type": "code",
   "execution_count": 166,
   "id": "eb09cac3",
   "metadata": {},
   "outputs": [
    {
     "name": "stdout",
     "output_type": "stream",
     "text": [
      "[[1 2]\n",
      " [3 4]]\n",
      "\n",
      "[[ 7 10]\n",
      " [15 22]]\n",
      "\n",
      "[[1 0]\n",
      " [0 1]]\n",
      "\n",
      "[[ 5.5  -2.5 ]\n",
      " [-3.75  1.75]]\n"
     ]
    }
   ],
   "source": [
    "# power matrix\n",
    "# n=0 ==> identity matrix\n",
    "# n>0 ==> power(multi)\n",
    "# n<0 ==> Inverse x power \n",
    "import numpy as np\n",
    "a=np.matrix([[1,2],[3,4]])\n",
    "print(a)\n",
    "print()\n",
    "print(np.linalg.matrix_power(a,2))\n",
    "print()\n",
    "print(np.linalg.matrix_power(a,0))\n",
    "print()\n",
    "print(np.linalg.matrix_power(a,-2))"
   ]
  },
  {
   "cell_type": "code",
   "execution_count": 170,
   "id": "0ca9505d",
   "metadata": {},
   "outputs": [
    {
     "name": "stdout",
     "output_type": "stream",
     "text": [
      "[[1 2 3]\n",
      " [3 4 3]\n",
      " [1 2 4]]\n",
      "\n",
      "-2.0000000000000004\n"
     ]
    }
   ],
   "source": [
    "# Determinant\n",
    "import numpy as np\n",
    "a=np.matrix([[1,2,3],[3,4,3],[1,2,4]])\n",
    "print(a)\n",
    "print()\n",
    "print(np.linalg.det(a))"
   ]
  }
 ],
 "metadata": {
  "kernelspec": {
   "display_name": "Python 3",
   "language": "python",
   "name": "python3"
  },
  "language_info": {
   "codemirror_mode": {
    "name": "ipython",
    "version": 3
   },
   "file_extension": ".py",
   "mimetype": "text/x-python",
   "name": "python",
   "nbconvert_exporter": "python",
   "pygments_lexer": "ipython3",
   "version": "3.10.9"
  }
 },
 "nbformat": 4,
 "nbformat_minor": 5
}
